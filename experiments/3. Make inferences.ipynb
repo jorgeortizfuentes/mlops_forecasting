{
 "cells": [
  {
   "cell_type": "code",
   "execution_count": 3,
   "metadata": {},
   "outputs": [],
   "source": [
    "import os\n",
    "\n",
    "# Changing the current working directory to its parent directory using \"..\"\n",
    "# os.chdir(\"..\")\n",
    "\n",
    "# Add .. to python path\n",
    "import sys\n",
    "sys.path.append(\"..\")"
   ]
  },
  {
   "cell_type": "code",
   "execution_count": 4,
   "metadata": {},
   "outputs": [
    {
     "ename": "ModuleNotFoundError",
     "evalue": "No module named 'config'",
     "output_type": "error",
     "traceback": [
      "\u001b[0;31m---------------------------------------------------------------------------\u001b[0m",
      "\u001b[0;31mModuleNotFoundError\u001b[0m                       Traceback (most recent call last)",
      "Cell \u001b[0;32mIn[4], line 1\u001b[0m\n\u001b[0;32m----> 1\u001b[0m \u001b[39mfrom\u001b[39;00m \u001b[39mtrain\u001b[39;00m\u001b[39m.\u001b[39;00m\u001b[39mpreprocess\u001b[39;00m \u001b[39mimport\u001b[39;00m df\n\u001b[1;32m      2\u001b[0m MODEL_LAST_DATE \u001b[39m=\u001b[39m df[\u001b[39m\"\u001b[39m\u001b[39mds\u001b[39m\u001b[39m\"\u001b[39m]\u001b[39m.\u001b[39mmax()\n",
      "File \u001b[0;32m~/awto_mle_challenge/train/preprocess.py:2\u001b[0m\n\u001b[1;32m      1\u001b[0m \u001b[39mimport\u001b[39;00m \u001b[39mpandas\u001b[39;00m \u001b[39mas\u001b[39;00m \u001b[39mpd\u001b[39;00m\n\u001b[0;32m----> 2\u001b[0m \u001b[39mfrom\u001b[39;00m \u001b[39mconfig\u001b[39;00m \u001b[39mimport\u001b[39;00m DATA_PATH\n\u001b[1;32m      4\u001b[0m \u001b[39m# Read csv\u001b[39;00m\n\u001b[1;32m      5\u001b[0m df \u001b[39m=\u001b[39m pd\u001b[39m.\u001b[39mread_csv(DATA_PATH)\n",
      "\u001b[0;31mModuleNotFoundError\u001b[0m: No module named 'config'"
     ]
    }
   ],
   "source": [
    "import pandas as pd\n",
    "from config import PATH_TO_SAVE\n",
    "models_info = pd.read_csv(os.path.join(PATH_TO_SAVE, \"models_info.csv\"))"
   ]
  },
  {
   "cell_type": "code",
   "execution_count": 15,
   "metadata": {},
   "outputs": [
    {
     "data": {
      "text/plain": [
       "864"
      ]
     },
     "execution_count": 15,
     "metadata": {},
     "output_type": "execute_result"
    }
   ],
   "source": [
    "from datetime import datetime\n",
    "\n",
    "def get_time_position(date, model_last_date):\n",
    "    # Count the number of times between the last date and the date we want (by 10 minutes)\n",
    "    return (date - model_last_date).days * 144 + (date - model_last_date).seconds // 600\n",
    "\n",
    "date = datetime(2020, 4, 5, 23, 50)\n",
    "get_time_position(date, MODEL_LAST_DATE)"
   ]
  },
  {
   "cell_type": "code",
   "execution_count": 16,
   "metadata": {},
   "outputs": [
    {
     "ename": "FileNotFoundError",
     "evalue": "[Errno 2] No such file or directory: 'models/tcn_model_20230316-141730.pt'",
     "output_type": "error",
     "traceback": [
      "\u001b[0;31m---------------------------------------------------------------------------\u001b[0m",
      "\u001b[0;31mFileNotFoundError\u001b[0m                         Traceback (most recent call last)",
      "Cell \u001b[0;32mIn[16], line 5\u001b[0m\n\u001b[1;32m      2\u001b[0m \u001b[39mfrom\u001b[39;00m \u001b[39mdarts\u001b[39;00m\u001b[39m.\u001b[39;00m\u001b[39mmodels\u001b[39;00m \u001b[39mimport\u001b[39;00m TCNModel\n\u001b[1;32m      4\u001b[0m \u001b[39m# Load the model\u001b[39;00m\n\u001b[0;32m----> 5\u001b[0m model \u001b[39m=\u001b[39m TCNModel\u001b[39m.\u001b[39;49mload(\u001b[39m\"\u001b[39;49m\u001b[39mmodels/tcn_model_20230316-141730.pt\u001b[39;49m\u001b[39m\"\u001b[39;49m)\n\u001b[1;32m      7\u001b[0m \u001b[39m# Make predictions\u001b[39;00m\n\u001b[1;32m      8\u001b[0m output \u001b[39m=\u001b[39m model\u001b[39m.\u001b[39mpredict(\u001b[39m864\u001b[39m)\n",
      "File \u001b[0;32m~/miniconda3/envs/awto/lib/python3.8/site-packages/darts/models/forecasting/torch_forecasting_model.py:1318\u001b[0m, in \u001b[0;36mTorchForecastingModel.load\u001b[0;34m(path, **kwargs)\u001b[0m\n\u001b[1;32m   1281\u001b[0m \u001b[39m\u001b[39m\u001b[39m\"\"\"\u001b[39;00m\n\u001b[1;32m   1282\u001b[0m \u001b[39mLoads a model from a given file path.\u001b[39;00m\n\u001b[1;32m   1283\u001b[0m \n\u001b[0;32m   (...)\u001b[0m\n\u001b[1;32m   1314\u001b[0m \u001b[39m    common/lightning_module.html#load-from-checkpoint>`_.\u001b[39;00m\n\u001b[1;32m   1315\u001b[0m \u001b[39m\"\"\"\u001b[39;00m\n\u001b[1;32m   1317\u001b[0m \u001b[39m# load the base TorchForecastingModel (does not contain the actual PyTorch LightningModule)\u001b[39;00m\n\u001b[0;32m-> 1318\u001b[0m \u001b[39mwith\u001b[39;00m \u001b[39mopen\u001b[39;49m(path, \u001b[39m\"\u001b[39;49m\u001b[39mrb\u001b[39;49m\u001b[39m\"\u001b[39;49m) \u001b[39mas\u001b[39;00m fin:\n\u001b[1;32m   1319\u001b[0m     model: TorchForecastingModel \u001b[39m=\u001b[39m torch\u001b[39m.\u001b[39mload(\n\u001b[1;32m   1320\u001b[0m         fin, map_location\u001b[39m=\u001b[39mkwargs\u001b[39m.\u001b[39mget(\u001b[39m\"\u001b[39m\u001b[39mmap_location\u001b[39m\u001b[39m\"\u001b[39m, \u001b[39mNone\u001b[39;00m)\n\u001b[1;32m   1321\u001b[0m     )\n\u001b[1;32m   1323\u001b[0m \u001b[39m# if a checkpoint was saved, we also load the PyTorch LightningModule from checkpoint\u001b[39;00m\n",
      "\u001b[0;31mFileNotFoundError\u001b[0m: [Errno 2] No such file or directory: 'models/tcn_model_20230316-141730.pt'"
     ]
    }
   ],
   "source": [
    "import torch\n",
    "from darts.models import TCNModel\n",
    "\n",
    "# Load the model\n",
    "model = TCNModel.load(\"models/tcn_model_20230316-141730.pt\")\n",
    "\n",
    "# Make predictions\n",
    "output = model.predict(864)\n",
    "\n"
   ]
  },
  {
   "cell_type": "code",
   "execution_count": null,
   "metadata": {},
   "outputs": [
    {
     "data": {
      "text/html": [
       "<div>\n",
       "<style scoped>\n",
       "    .dataframe tbody tr th:only-of-type {\n",
       "        vertical-align: middle;\n",
       "    }\n",
       "\n",
       "    .dataframe tbody tr th {\n",
       "        vertical-align: top;\n",
       "    }\n",
       "\n",
       "    .dataframe thead th {\n",
       "        text-align: right;\n",
       "    }\n",
       "</style>\n",
       "<table border=\"1\" class=\"dataframe\">\n",
       "  <thead>\n",
       "    <tr style=\"text-align: right;\">\n",
       "      <th>component</th>\n",
       "      <th>ActivePower</th>\n",
       "    </tr>\n",
       "    <tr>\n",
       "      <th>ds</th>\n",
       "      <th></th>\n",
       "    </tr>\n",
       "  </thead>\n",
       "  <tbody>\n",
       "    <tr>\n",
       "      <th>2020-03-31 00:00:00</th>\n",
       "      <td>-3.667194e+02</td>\n",
       "    </tr>\n",
       "    <tr>\n",
       "      <th>2020-03-31 00:10:00</th>\n",
       "      <td>-1.441123e+02</td>\n",
       "    </tr>\n",
       "    <tr>\n",
       "      <th>2020-03-31 00:20:00</th>\n",
       "      <td>6.252472e+02</td>\n",
       "    </tr>\n",
       "    <tr>\n",
       "      <th>2020-03-31 00:30:00</th>\n",
       "      <td>1.736000e+03</td>\n",
       "    </tr>\n",
       "    <tr>\n",
       "      <th>2020-03-31 00:40:00</th>\n",
       "      <td>2.983776e+03</td>\n",
       "    </tr>\n",
       "    <tr>\n",
       "      <th>...</th>\n",
       "      <td>...</td>\n",
       "    </tr>\n",
       "    <tr>\n",
       "      <th>2020-04-05 23:10:00</th>\n",
       "      <td>6.979904e+296</td>\n",
       "    </tr>\n",
       "    <tr>\n",
       "      <th>2020-04-05 23:20:00</th>\n",
       "      <td>1.544192e+297</td>\n",
       "    </tr>\n",
       "    <tr>\n",
       "      <th>2020-04-05 23:30:00</th>\n",
       "      <td>3.416277e+297</td>\n",
       "    </tr>\n",
       "    <tr>\n",
       "      <th>2020-04-05 23:40:00</th>\n",
       "      <td>7.557965e+297</td>\n",
       "    </tr>\n",
       "    <tr>\n",
       "      <th>2020-04-05 23:50:00</th>\n",
       "      <td>1.672079e+298</td>\n",
       "    </tr>\n",
       "  </tbody>\n",
       "</table>\n",
       "<p>864 rows × 1 columns</p>\n",
       "</div>"
      ],
      "text/plain": [
       "component              ActivePower\n",
       "ds                                \n",
       "2020-03-31 00:00:00  -3.667194e+02\n",
       "2020-03-31 00:10:00  -1.441123e+02\n",
       "2020-03-31 00:20:00   6.252472e+02\n",
       "2020-03-31 00:30:00   1.736000e+03\n",
       "2020-03-31 00:40:00   2.983776e+03\n",
       "...                            ...\n",
       "2020-04-05 23:10:00  6.979904e+296\n",
       "2020-04-05 23:20:00  1.544192e+297\n",
       "2020-04-05 23:30:00  3.416277e+297\n",
       "2020-04-05 23:40:00  7.557965e+297\n",
       "2020-04-05 23:50:00  1.672079e+298\n",
       "\n",
       "[864 rows x 1 columns]"
      ]
     },
     "execution_count": 11,
     "metadata": {},
     "output_type": "execute_result"
    }
   ],
   "source": [
    "output[\"ActivePower\"].pd_dataframe()"
   ]
  }
 ],
 "metadata": {
  "kernelspec": {
   "display_name": "awto",
   "language": "python",
   "name": "python3"
  },
  "language_info": {
   "codemirror_mode": {
    "name": "ipython",
    "version": 3
   },
   "file_extension": ".py",
   "mimetype": "text/x-python",
   "name": "python",
   "nbconvert_exporter": "python",
   "pygments_lexer": "ipython3",
   "version": "3.8.16"
  },
  "orig_nbformat": 4
 },
 "nbformat": 4,
 "nbformat_minor": 2
}
