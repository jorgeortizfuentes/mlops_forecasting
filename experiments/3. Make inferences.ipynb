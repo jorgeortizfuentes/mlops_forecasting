{
 "cells": [
  {
   "cell_type": "code",
   "execution_count": 1,
   "metadata": {},
   "outputs": [],
   "source": [
    "import os\n",
    "import sys\n",
    "\n",
    "# Add scripts directory to path\n",
    "current_dir = os.getcwd()\n",
    "scripts_dir = current_dir.replace(\"experiments\", \"train\")\n",
    "sys.path.append(scripts_dir)"
   ]
  },
  {
   "cell_type": "code",
   "execution_count": 9,
   "metadata": {},
   "outputs": [],
   "source": [
    "import pandas as pd\n",
    "from datetime import datetime\n",
    "from config import PATH_TO_SAVE_MODELS\n",
    "models_info = pd.read_csv(os.path.join(PATH_TO_SAVE_MODELS, \"models_info.csv\")).iloc[-1].to_dict()\n",
    "\n",
    "# Get last_row \n",
    "models_info\n",
    "last_date = models_info[\"last_date\"] \n",
    "# Convert to datetime \n",
    "last_date = datetime.strptime(last_date, \"%Y-%m-%d %H:%M:%S\")\n",
    "model_name = models_info[\"model_name\"]"
   ]
  },
  {
   "cell_type": "code",
   "execution_count": 11,
   "metadata": {},
   "outputs": [
    {
     "data": {
      "text/plain": [
       "datetime.datetime(2020, 3, 30, 23, 50)"
      ]
     },
     "execution_count": 11,
     "metadata": {},
     "output_type": "execute_result"
    }
   ],
   "source": [
    "# Generate documentation before each function and method definition"
   ]
  },
  {
   "cell_type": "code",
   "execution_count": 18,
   "metadata": {},
   "outputs": [],
   "source": [
    "from datetime import datetime\n",
    "\n",
    "def get_time_position(date, model_last_date):\n",
    "    # Count the number of times between the last date and the date we want (by 10 minutes)\n",
    "    return (date - model_last_date).days * 144 + (date - model_last_date).seconds // 600\n",
    "\n",
    "date = datetime(2021, 4, 5, 22, 50)\n",
    "n_predictions = get_time_position(date, last_date)"
   ]
  },
  {
   "cell_type": "code",
   "execution_count": 19,
   "metadata": {},
   "outputs": [
    {
     "name": "stderr",
     "output_type": "stream",
     "text": [
      "GPU available: True (cuda), used: True\n",
      "TPU available: False, using: 0 TPU cores\n",
      "IPU available: False, using: 0 IPUs\n",
      "HPU available: False, using: 0 HPUs\n",
      "You are using a CUDA device ('NVIDIA RTX A6000') that has Tensor Cores. To properly utilize them, you should set `torch.set_float32_matmul_precision('medium' | 'high')` which will trade-off precision for performance. For more details, read https://pytorch.org/docs/stable/generated/torch.set_float32_matmul_precision.html#torch.set_float32_matmul_precision\n",
      "LOCAL_RANK: 0 - CUDA_VISIBLE_DEVICES: [0,1]\n",
      "/home/jlortiz/miniconda3/envs/awto/lib/python3.8/site-packages/pytorch_lightning/trainer/connectors/data_connector.py:430: PossibleUserWarning: The dataloader, predict_dataloader, does not have many workers which may be a bottleneck. Consider increasing the value of the `num_workers` argument` (try 16 which is the number of cpus on this machine) in the `DataLoader` init to improve performance.\n",
      "  rank_zero_warn(\n"
     ]
    },
    {
     "data": {
      "application/vnd.jupyter.widget-view+json": {
       "model_id": "ae467505227e4290a89c99f278283825",
       "version_major": 2,
       "version_minor": 0
      },
      "text/plain": [
       "Predicting: 0it [00:00, ?it/s]"
      ]
     },
     "metadata": {},
     "output_type": "display_data"
    }
   ],
   "source": [
    "import torch\n",
    "from darts.models import TCNModel\n",
    "\n",
    "# Load the model\n",
    "model = TCNModel.load(os.path.join(PATH_TO_SAVE_MODELS, model_name))\n",
    "\n",
    "# Make predictions\n",
    "output = model.predict(n_predictions)\n",
    "\n"
   ]
  },
  {
   "cell_type": "code",
   "execution_count": null,
   "metadata": {},
   "outputs": [
    {
     "data": {
      "text/html": [
       "<div>\n",
       "<style scoped>\n",
       "    .dataframe tbody tr th:only-of-type {\n",
       "        vertical-align: middle;\n",
       "    }\n",
       "\n",
       "    .dataframe tbody tr th {\n",
       "        vertical-align: top;\n",
       "    }\n",
       "\n",
       "    .dataframe thead th {\n",
       "        text-align: right;\n",
       "    }\n",
       "</style>\n",
       "<table border=\"1\" class=\"dataframe\">\n",
       "  <thead>\n",
       "    <tr style=\"text-align: right;\">\n",
       "      <th>component</th>\n",
       "      <th>ActivePower</th>\n",
       "    </tr>\n",
       "    <tr>\n",
       "      <th>ds</th>\n",
       "      <th></th>\n",
       "    </tr>\n",
       "  </thead>\n",
       "  <tbody>\n",
       "    <tr>\n",
       "      <th>2020-03-31 00:00:00</th>\n",
       "      <td>-3.667194e+02</td>\n",
       "    </tr>\n",
       "    <tr>\n",
       "      <th>2020-03-31 00:10:00</th>\n",
       "      <td>-1.441123e+02</td>\n",
       "    </tr>\n",
       "    <tr>\n",
       "      <th>2020-03-31 00:20:00</th>\n",
       "      <td>6.252472e+02</td>\n",
       "    </tr>\n",
       "    <tr>\n",
       "      <th>2020-03-31 00:30:00</th>\n",
       "      <td>1.736000e+03</td>\n",
       "    </tr>\n",
       "    <tr>\n",
       "      <th>2020-03-31 00:40:00</th>\n",
       "      <td>2.983776e+03</td>\n",
       "    </tr>\n",
       "    <tr>\n",
       "      <th>...</th>\n",
       "      <td>...</td>\n",
       "    </tr>\n",
       "    <tr>\n",
       "      <th>2020-04-05 23:10:00</th>\n",
       "      <td>6.979891e+296</td>\n",
       "    </tr>\n",
       "    <tr>\n",
       "      <th>2020-04-05 23:20:00</th>\n",
       "      <td>1.544189e+297</td>\n",
       "    </tr>\n",
       "    <tr>\n",
       "      <th>2020-04-05 23:30:00</th>\n",
       "      <td>3.416271e+297</td>\n",
       "    </tr>\n",
       "    <tr>\n",
       "      <th>2020-04-05 23:40:00</th>\n",
       "      <td>7.557951e+297</td>\n",
       "    </tr>\n",
       "    <tr>\n",
       "      <th>2020-04-05 23:50:00</th>\n",
       "      <td>1.672076e+298</td>\n",
       "    </tr>\n",
       "  </tbody>\n",
       "</table>\n",
       "<p>864 rows × 1 columns</p>\n",
       "</div>"
      ],
      "text/plain": [
       "component              ActivePower\n",
       "ds                                \n",
       "2020-03-31 00:00:00  -3.667194e+02\n",
       "2020-03-31 00:10:00  -1.441123e+02\n",
       "2020-03-31 00:20:00   6.252472e+02\n",
       "2020-03-31 00:30:00   1.736000e+03\n",
       "2020-03-31 00:40:00   2.983776e+03\n",
       "...                            ...\n",
       "2020-04-05 23:10:00  6.979891e+296\n",
       "2020-04-05 23:20:00  1.544189e+297\n",
       "2020-04-05 23:30:00  3.416271e+297\n",
       "2020-04-05 23:40:00  7.557951e+297\n",
       "2020-04-05 23:50:00  1.672076e+298\n",
       "\n",
       "[864 rows x 1 columns]"
      ]
     },
     "execution_count": 14,
     "metadata": {},
     "output_type": "execute_result"
    }
   ],
   "source": [
    "output[\"ActivePower\"].pd_dataframe()\n",
    "\n"
   ]
  }
 ],
 "metadata": {
  "kernelspec": {
   "display_name": "awto",
   "language": "python",
   "name": "python3"
  },
  "language_info": {
   "codemirror_mode": {
    "name": "ipython",
    "version": 3
   },
   "file_extension": ".py",
   "mimetype": "text/x-python",
   "name": "python",
   "nbconvert_exporter": "python",
   "pygments_lexer": "ipython3",
   "version": "3.8.16"
  },
  "orig_nbformat": 4
 },
 "nbformat": 4,
 "nbformat_minor": 2
}
