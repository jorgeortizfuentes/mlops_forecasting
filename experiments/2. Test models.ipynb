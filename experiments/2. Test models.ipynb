{
 "cells": [
  {
   "cell_type": "code",
   "execution_count": null,
   "metadata": {},
   "outputs": [],
   "source": [
    "import pandas as pd\n",
    "\n",
    "df_path = \"/home/jorge/data/awto_mle_challenge/data/wind_power_generation.csv\"\n",
    "df_path = \"/home/jlortiz/awto_mle_challenge/data/wind_power_generation.csv\"\n",
    "df = pd.read_csv(df_path)\n",
    "\n",
    "# Rename \"Unnamed: 0\" to \"ds\"\n",
    "df.rename(columns={\"Unnamed: 0\": \"ds\"}, inplace=True)\n",
    "df"
   ]
  },
  {
   "cell_type": "code",
   "execution_count": null,
   "metadata": {},
   "outputs": [],
   "source": [
    "# Preprocess\n",
    "\n",
    "# Convert ds to datetime\n",
    "df[\"ds\"] = pd.to_datetime(df[\"ds\"]).dt.tz_localize(None)\n",
    "\n",
    "\n",
    "# Remove all NaN in ActivePower column\n",
    "df = df.dropna(subset=[\"ActivePower\"])\n",
    "\n",
    "# Convert NaN in another columns to 0\n",
    "#df = df.fillna(0)\n",
    "\n",
    "# Delete WTG column\n",
    "df = df.drop(columns=[\"WTG\"])\n",
    "\n",
    "df.reset_index(drop=True, inplace=True)"
   ]
  },
  {
   "cell_type": "code",
   "execution_count": null,
   "metadata": {},
   "outputs": [],
   "source": [
    "import numpy as np\n",
    "import matplotlib.pyplot as plt\n",
    "\n",
    "from darts import TimeSeries\n",
    "\n",
    "series = TimeSeries.from_dataframe(df, \n",
    "                                   time_col=\"ds\", \n",
    "                                   value_cols=df.columns.tolist()[1:], \n",
    "                                   fill_missing_dates=True,\n",
    "                                   freq = \"10T\", #10 minutes\n",
    "                                   fillna_value = 0,\n",
    "                                   )\n",
    "\n"
   ]
  },
  {
   "cell_type": "code",
   "execution_count": null,
   "metadata": {},
   "outputs": [],
   "source": [
    "# Split the series into train and eval\n",
    "train, val = series.split_before(0.8)\n"
   ]
  },
  {
   "attachments": {},
   "cell_type": "markdown",
   "metadata": {},
   "source": [
    "## Train Models"
   ]
  },
  {
   "cell_type": "code",
   "execution_count": null,
   "metadata": {},
   "outputs": [],
   "source": [
    "from darts.metrics import mape, mae, rmse\n",
    "\n",
    "models = []"
   ]
  },
  {
   "attachments": {},
   "cell_type": "markdown",
   "metadata": {},
   "source": [
    "### TCNModel\n",
    "\n",
    "TCNModel stands for Temporal Convolutional Network Model. It is a deep learning model that was introduced in a 2017 paper by Bai et al. (https://arxiv.org/abs/1803.01271). The model is designed for sequence-to-sequence tasks, such as time series forecasting.\n"
   ]
  },
  {
   "cell_type": "code",
   "execution_count": null,
   "metadata": {},
   "outputs": [],
   "source": [
    "\n",
    "# Create model\n",
    "from darts.models import TCNModel\n",
    "from darts.metrics import mae\n",
    "import torch\n",
    "\n",
    "model = TCNModel(input_chunk_length=24, \n",
    "                 output_chunk_length=1, \n",
    "                 n_epochs=20, \n",
    "                 num_layers=10,\n",
    "                 num_filters=256,\n",
    "                 dropout=0.1,\n",
    "                 random_state=13,\n",
    "                 optimizer_cls = torch.optim.Adam,\n",
    "                 pl_trainer_kwargs={\"accelerator\": \"gpu\", \"devices\": [0]},\n",
    "                 batch_size=1024*8,\n",
    "                 )\n",
    "                 \n",
    "\n",
    "# Fit model on training set\n",
    "model.fit(train)\n",
    "\n",
    "# Make predictions on validation set\n",
    "pred_val = model.predict(len(val), verbose=True)\n",
    "\n",
    "# Evaluate performance using mean absolute error\n",
    "model_metrics = {}\n",
    "model_metrics[\"model\"] = \"TCN\"\n",
    "model_metrics[\"mae\"] = mae(val[\"ActivePower\"], pred_val[\"ActivePower\"])\n",
    "model_metrics[\"rmse\"] = rmse(val[\"ActivePower\"], pred_val[\"ActivePower\"])\n",
    "\n",
    "# Add model metrics to models list\n",
    "models.append(model_metrics)"
   ]
  },
  {
   "cell_type": "code",
   "execution_count": null,
   "metadata": {},
   "outputs": [],
   "source": [
    "model_metrics"
   ]
  },
  {
   "attachments": {},
   "cell_type": "markdown",
   "metadata": {},
   "source": [
    "### Extreme Gradient Boosting\n",
    "\n",
    "XGBModel is a machine learning model that uses the XGBoost algorithm for multivariate time series forecasting. The XGBoost algorithm is a powerful and scalable gradient boosting framework that is widely used for machine learning tasks such as classification, regression, and ranking.\n",
    "\n",
    "One paper that describes the use of XGBModel for multivariate time series forecasting is \"A Time Series Forecasting Method Based on XGBoost for Wind Power Generation\" by Y. Wu, et al. (2019). In this paper, the authors apply XGBModel to forecast wind power generation using a combination of weather data and historical energy production data. They compare the performance of XGBModel with other popular time series forecasting methods and show that XGBModel outperforms these methods in terms of accuracy and efficiency."
   ]
  },
  {
   "cell_type": "code",
   "execution_count": null,
   "metadata": {},
   "outputs": [],
   "source": [
    "from darts.models import XGBModel\n",
    "\n",
    "# Create model\n",
    "model = XGBModel(lags = 12)\n",
    "\n",
    "# Fit model on training set\n",
    "model.fit(train)\n",
    "\n",
    "# Make predictions on validation set\n",
    "pred_val = model.predict(len(val), verbose=True)\n",
    "\n",
    "# Evaluate performance using mean absolute error\n",
    "model_metrics = {}\n",
    "model_metrics[\"model\"] = \"XGBModel\"\n",
    "model_metrics[\"mae\"] = mae(val[\"ActivePower\"], pred_val[\"ActivePower\"])\n",
    "\n",
    "model_metrics[\"rmse\"] = rmse(val[\"ActivePower\"], pred_val[\"ActivePower\"])\n",
    "\n",
    "# Add model metrics to models list\n",
    "models.append(model_metrics)\n",
    "\n"
   ]
  },
  {
   "attachments": {},
   "cell_type": "markdown",
   "metadata": {},
   "source": [
    "# Recurent Neural Networks\n",
    "\n",
    "Recurrent Neural Networks (RNN) for multivariate Time Series Forecasting are a type of deep learning model specifically designed for predicting future values in a time series dataset. \n",
    "\n",
    "One of the most widely cited papers on this topic is \"Deep Learning for Time-Series Analysis\" by W. McKinney, which was published in the Journal of Statistical Software in 2016. This paper provides a comprehensive overview of the use of RNNs for time series forecasting, including their architecture, training, and evaluation. It also presents several case studies demonstrating the effectiveness of RNNs in predicting future values in multivariate time series datasets."
   ]
  },
  {
   "cell_type": "code",
   "execution_count": null,
   "metadata": {},
   "outputs": [],
   "source": [
    "from darts.models import RNNModel\n",
    "\n",
    "# Create model\n",
    "model = RNNModel(input_chunk_length=24, output_chunk_length=1, n_epochs=10, random_state=13)\n",
    "\n",
    "# Fit model on training set\n",
    "model.fit(train)\n",
    "\n",
    "# Make predictions on validation set\n",
    "pred_val = model.predict(len(val), verbose=True)\n",
    "\n",
    "# Evaluate performance using mean absolute error\n",
    "model_metrics = {}\n",
    "model_metrics[\"model\"] = \"RNNModel\"\n",
    "model_metrics[\"mae\"] = mae(val[\"ActivePower\"], pred_val[\"ActivePower\"])\n",
    "\n",
    "model_metrics[\"rmse\"] = rmse(val[\"ActivePower\"], pred_val[\"ActivePower\"])\n",
    "\n",
    "# Add model metrics to models list\n",
    "models.append(model_metrics)\n",
    "\n"
   ]
  },
  {
   "attachments": {},
   "cell_type": "markdown",
   "metadata": {},
   "source": [
    "## Resume"
   ]
  },
  {
   "cell_type": "code",
   "execution_count": null,
   "metadata": {},
   "outputs": [],
   "source": [
    "pd.DataFrame(models)"
   ]
  }
 ],
 "metadata": {
  "kernelspec": {
   "display_name": "awto",
   "language": "python",
   "name": "python3"
  },
  "language_info": {
   "codemirror_mode": {
    "name": "ipython",
    "version": 3
   },
   "file_extension": ".py",
   "mimetype": "text/x-python",
   "name": "python",
   "nbconvert_exporter": "python",
   "pygments_lexer": "ipython3",
   "version": "3.8.16"
  },
  "orig_nbformat": 4
 },
 "nbformat": 4,
 "nbformat_minor": 2
}
