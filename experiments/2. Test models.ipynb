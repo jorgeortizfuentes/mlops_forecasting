{
 "cells": [
  {
   "cell_type": "code",
   "execution_count": 1,
   "metadata": {},
   "outputs": [
    {
     "data": {
      "text/html": [
       "<div>\n",
       "<style scoped>\n",
       "    .dataframe tbody tr th:only-of-type {\n",
       "        vertical-align: middle;\n",
       "    }\n",
       "\n",
       "    .dataframe tbody tr th {\n",
       "        vertical-align: top;\n",
       "    }\n",
       "\n",
       "    .dataframe thead th {\n",
       "        text-align: right;\n",
       "    }\n",
       "</style>\n",
       "<table border=\"1\" class=\"dataframe\">\n",
       "  <thead>\n",
       "    <tr style=\"text-align: right;\">\n",
       "      <th></th>\n",
       "      <th>ds</th>\n",
       "      <th>ActivePower</th>\n",
       "      <th>AmbientTemperatue</th>\n",
       "      <th>BearingShaftTemperature</th>\n",
       "      <th>Blade1PitchAngle</th>\n",
       "      <th>Blade2PitchAngle</th>\n",
       "      <th>ControlBoxTemperature</th>\n",
       "      <th>GearboxBearingTemperature</th>\n",
       "      <th>GearboxOilTemperature</th>\n",
       "      <th>GeneratorRPM</th>\n",
       "      <th>GeneratorWinding1Temperature</th>\n",
       "      <th>GeneratorWinding2Temperature</th>\n",
       "      <th>HubTemperature</th>\n",
       "      <th>MainBoxTemperature</th>\n",
       "      <th>NacellePosition</th>\n",
       "      <th>ReactivePower</th>\n",
       "      <th>RotorRPM</th>\n",
       "      <th>TurbineStatus</th>\n",
       "      <th>WindSpeed</th>\n",
       "    </tr>\n",
       "  </thead>\n",
       "  <tbody>\n",
       "    <tr>\n",
       "      <th>0</th>\n",
       "      <td>2018-01-01 00:00:00</td>\n",
       "      <td>-5.357727</td>\n",
       "      <td>23.148729</td>\n",
       "      <td>0.000000</td>\n",
       "      <td>0.000000</td>\n",
       "      <td>0.000000</td>\n",
       "      <td>0.0</td>\n",
       "      <td>0.000000</td>\n",
       "      <td>0.000000</td>\n",
       "      <td>0.000000</td>\n",
       "      <td>0.000000</td>\n",
       "      <td>0.000000</td>\n",
       "      <td>0.000000</td>\n",
       "      <td>0.000000</td>\n",
       "      <td>8.000000</td>\n",
       "      <td>-9.960830</td>\n",
       "      <td>0.000000</td>\n",
       "      <td>0.0</td>\n",
       "      <td>2.279088</td>\n",
       "    </tr>\n",
       "    <tr>\n",
       "      <th>1</th>\n",
       "      <td>2018-01-01 00:10:00</td>\n",
       "      <td>-5.822360</td>\n",
       "      <td>23.039754</td>\n",
       "      <td>0.000000</td>\n",
       "      <td>0.000000</td>\n",
       "      <td>0.000000</td>\n",
       "      <td>0.0</td>\n",
       "      <td>0.000000</td>\n",
       "      <td>0.000000</td>\n",
       "      <td>0.000000</td>\n",
       "      <td>0.000000</td>\n",
       "      <td>0.000000</td>\n",
       "      <td>0.000000</td>\n",
       "      <td>0.000000</td>\n",
       "      <td>300.428571</td>\n",
       "      <td>-9.628441</td>\n",
       "      <td>0.000000</td>\n",
       "      <td>0.0</td>\n",
       "      <td>2.339343</td>\n",
       "    </tr>\n",
       "    <tr>\n",
       "      <th>2</th>\n",
       "      <td>2018-01-01 00:20:00</td>\n",
       "      <td>-5.279409</td>\n",
       "      <td>22.948703</td>\n",
       "      <td>0.000000</td>\n",
       "      <td>0.000000</td>\n",
       "      <td>0.000000</td>\n",
       "      <td>0.0</td>\n",
       "      <td>0.000000</td>\n",
       "      <td>0.000000</td>\n",
       "      <td>0.000000</td>\n",
       "      <td>0.000000</td>\n",
       "      <td>0.000000</td>\n",
       "      <td>0.000000</td>\n",
       "      <td>0.000000</td>\n",
       "      <td>340.000000</td>\n",
       "      <td>-9.491235</td>\n",
       "      <td>0.000000</td>\n",
       "      <td>0.0</td>\n",
       "      <td>2.455610</td>\n",
       "    </tr>\n",
       "    <tr>\n",
       "      <th>3</th>\n",
       "      <td>2018-01-01 00:30:00</td>\n",
       "      <td>-4.648054</td>\n",
       "      <td>22.966851</td>\n",
       "      <td>0.000000</td>\n",
       "      <td>0.000000</td>\n",
       "      <td>0.000000</td>\n",
       "      <td>0.0</td>\n",
       "      <td>0.000000</td>\n",
       "      <td>0.000000</td>\n",
       "      <td>0.000000</td>\n",
       "      <td>0.000000</td>\n",
       "      <td>0.000000</td>\n",
       "      <td>0.000000</td>\n",
       "      <td>0.000000</td>\n",
       "      <td>345.000000</td>\n",
       "      <td>-9.856136</td>\n",
       "      <td>0.000000</td>\n",
       "      <td>0.0</td>\n",
       "      <td>2.026754</td>\n",
       "    </tr>\n",
       "    <tr>\n",
       "      <th>4</th>\n",
       "      <td>2018-01-01 00:40:00</td>\n",
       "      <td>-4.684632</td>\n",
       "      <td>22.936520</td>\n",
       "      <td>0.000000</td>\n",
       "      <td>0.000000</td>\n",
       "      <td>0.000000</td>\n",
       "      <td>0.0</td>\n",
       "      <td>0.000000</td>\n",
       "      <td>0.000000</td>\n",
       "      <td>0.000000</td>\n",
       "      <td>0.000000</td>\n",
       "      <td>0.000000</td>\n",
       "      <td>0.000000</td>\n",
       "      <td>0.000000</td>\n",
       "      <td>345.000000</td>\n",
       "      <td>-9.745593</td>\n",
       "      <td>0.000000</td>\n",
       "      <td>0.0</td>\n",
       "      <td>1.831420</td>\n",
       "    </tr>\n",
       "    <tr>\n",
       "      <th>...</th>\n",
       "      <td>...</td>\n",
       "      <td>...</td>\n",
       "      <td>...</td>\n",
       "      <td>...</td>\n",
       "      <td>...</td>\n",
       "      <td>...</td>\n",
       "      <td>...</td>\n",
       "      <td>...</td>\n",
       "      <td>...</td>\n",
       "      <td>...</td>\n",
       "      <td>...</td>\n",
       "      <td>...</td>\n",
       "      <td>...</td>\n",
       "      <td>...</td>\n",
       "      <td>...</td>\n",
       "      <td>...</td>\n",
       "      <td>...</td>\n",
       "      <td>...</td>\n",
       "      <td>...</td>\n",
       "    </tr>\n",
       "    <tr>\n",
       "      <th>94745</th>\n",
       "      <td>2020-03-30 23:10:00</td>\n",
       "      <td>70.044465</td>\n",
       "      <td>27.523741</td>\n",
       "      <td>45.711129</td>\n",
       "      <td>1.515669</td>\n",
       "      <td>1.950088</td>\n",
       "      <td>0.0</td>\n",
       "      <td>59.821165</td>\n",
       "      <td>55.193793</td>\n",
       "      <td>1029.870744</td>\n",
       "      <td>59.060367</td>\n",
       "      <td>58.148777</td>\n",
       "      <td>39.008931</td>\n",
       "      <td>36.476562</td>\n",
       "      <td>178.000000</td>\n",
       "      <td>13.775785</td>\n",
       "      <td>9.234004</td>\n",
       "      <td>2.0</td>\n",
       "      <td>3.533445</td>\n",
       "    </tr>\n",
       "    <tr>\n",
       "      <th>94746</th>\n",
       "      <td>2020-03-30 23:20:00</td>\n",
       "      <td>40.833474</td>\n",
       "      <td>27.602882</td>\n",
       "      <td>45.598573</td>\n",
       "      <td>1.702809</td>\n",
       "      <td>2.136732</td>\n",
       "      <td>0.0</td>\n",
       "      <td>59.142038</td>\n",
       "      <td>54.798545</td>\n",
       "      <td>1030.160478</td>\n",
       "      <td>58.452003</td>\n",
       "      <td>57.550367</td>\n",
       "      <td>39.006759</td>\n",
       "      <td>36.328125</td>\n",
       "      <td>178.000000</td>\n",
       "      <td>8.088928</td>\n",
       "      <td>9.229370</td>\n",
       "      <td>2.0</td>\n",
       "      <td>3.261231</td>\n",
       "    </tr>\n",
       "    <tr>\n",
       "      <th>94747</th>\n",
       "      <td>2020-03-30 23:30:00</td>\n",
       "      <td>20.777790</td>\n",
       "      <td>27.560925</td>\n",
       "      <td>45.462045</td>\n",
       "      <td>1.706214</td>\n",
       "      <td>2.139664</td>\n",
       "      <td>0.0</td>\n",
       "      <td>58.439439</td>\n",
       "      <td>54.380456</td>\n",
       "      <td>1030.137822</td>\n",
       "      <td>58.034071</td>\n",
       "      <td>57.099335</td>\n",
       "      <td>39.003815</td>\n",
       "      <td>36.131944</td>\n",
       "      <td>178.000000</td>\n",
       "      <td>4.355978</td>\n",
       "      <td>9.236802</td>\n",
       "      <td>2.0</td>\n",
       "      <td>3.331839</td>\n",
       "    </tr>\n",
       "    <tr>\n",
       "      <th>94748</th>\n",
       "      <td>2020-03-30 23:40:00</td>\n",
       "      <td>62.091039</td>\n",
       "      <td>27.810472</td>\n",
       "      <td>45.343827</td>\n",
       "      <td>1.575352</td>\n",
       "      <td>2.009781</td>\n",
       "      <td>0.0</td>\n",
       "      <td>58.205413</td>\n",
       "      <td>54.079014</td>\n",
       "      <td>1030.178178</td>\n",
       "      <td>57.795387</td>\n",
       "      <td>56.847239</td>\n",
       "      <td>39.003815</td>\n",
       "      <td>36.007805</td>\n",
       "      <td>190.000000</td>\n",
       "      <td>12.018077</td>\n",
       "      <td>9.237374</td>\n",
       "      <td>2.0</td>\n",
       "      <td>3.284468</td>\n",
       "    </tr>\n",
       "    <tr>\n",
       "      <th>94749</th>\n",
       "      <td>2020-03-30 23:50:00</td>\n",
       "      <td>68.664425</td>\n",
       "      <td>27.915828</td>\n",
       "      <td>45.231610</td>\n",
       "      <td>1.499323</td>\n",
       "      <td>1.933124</td>\n",
       "      <td>0.0</td>\n",
       "      <td>58.581716</td>\n",
       "      <td>54.080505</td>\n",
       "      <td>1029.834789</td>\n",
       "      <td>57.694813</td>\n",
       "      <td>56.741040</td>\n",
       "      <td>39.003815</td>\n",
       "      <td>35.914062</td>\n",
       "      <td>203.000000</td>\n",
       "      <td>14.439669</td>\n",
       "      <td>9.235532</td>\n",
       "      <td>2.0</td>\n",
       "      <td>3.475205</td>\n",
       "    </tr>\n",
       "  </tbody>\n",
       "</table>\n",
       "<p>94750 rows × 19 columns</p>\n",
       "</div>"
      ],
      "text/plain": [
       "                       ds  ActivePower  AmbientTemperatue  \\\n",
       "0     2018-01-01 00:00:00    -5.357727          23.148729   \n",
       "1     2018-01-01 00:10:00    -5.822360          23.039754   \n",
       "2     2018-01-01 00:20:00    -5.279409          22.948703   \n",
       "3     2018-01-01 00:30:00    -4.648054          22.966851   \n",
       "4     2018-01-01 00:40:00    -4.684632          22.936520   \n",
       "...                   ...          ...                ...   \n",
       "94745 2020-03-30 23:10:00    70.044465          27.523741   \n",
       "94746 2020-03-30 23:20:00    40.833474          27.602882   \n",
       "94747 2020-03-30 23:30:00    20.777790          27.560925   \n",
       "94748 2020-03-30 23:40:00    62.091039          27.810472   \n",
       "94749 2020-03-30 23:50:00    68.664425          27.915828   \n",
       "\n",
       "       BearingShaftTemperature  Blade1PitchAngle  Blade2PitchAngle  \\\n",
       "0                     0.000000          0.000000          0.000000   \n",
       "1                     0.000000          0.000000          0.000000   \n",
       "2                     0.000000          0.000000          0.000000   \n",
       "3                     0.000000          0.000000          0.000000   \n",
       "4                     0.000000          0.000000          0.000000   \n",
       "...                        ...               ...               ...   \n",
       "94745                45.711129          1.515669          1.950088   \n",
       "94746                45.598573          1.702809          2.136732   \n",
       "94747                45.462045          1.706214          2.139664   \n",
       "94748                45.343827          1.575352          2.009781   \n",
       "94749                45.231610          1.499323          1.933124   \n",
       "\n",
       "       ControlBoxTemperature  GearboxBearingTemperature  \\\n",
       "0                        0.0                   0.000000   \n",
       "1                        0.0                   0.000000   \n",
       "2                        0.0                   0.000000   \n",
       "3                        0.0                   0.000000   \n",
       "4                        0.0                   0.000000   \n",
       "...                      ...                        ...   \n",
       "94745                    0.0                  59.821165   \n",
       "94746                    0.0                  59.142038   \n",
       "94747                    0.0                  58.439439   \n",
       "94748                    0.0                  58.205413   \n",
       "94749                    0.0                  58.581716   \n",
       "\n",
       "       GearboxOilTemperature  GeneratorRPM  GeneratorWinding1Temperature  \\\n",
       "0                   0.000000      0.000000                      0.000000   \n",
       "1                   0.000000      0.000000                      0.000000   \n",
       "2                   0.000000      0.000000                      0.000000   \n",
       "3                   0.000000      0.000000                      0.000000   \n",
       "4                   0.000000      0.000000                      0.000000   \n",
       "...                      ...           ...                           ...   \n",
       "94745              55.193793   1029.870744                     59.060367   \n",
       "94746              54.798545   1030.160478                     58.452003   \n",
       "94747              54.380456   1030.137822                     58.034071   \n",
       "94748              54.079014   1030.178178                     57.795387   \n",
       "94749              54.080505   1029.834789                     57.694813   \n",
       "\n",
       "       GeneratorWinding2Temperature  HubTemperature  MainBoxTemperature  \\\n",
       "0                          0.000000        0.000000            0.000000   \n",
       "1                          0.000000        0.000000            0.000000   \n",
       "2                          0.000000        0.000000            0.000000   \n",
       "3                          0.000000        0.000000            0.000000   \n",
       "4                          0.000000        0.000000            0.000000   \n",
       "...                             ...             ...                 ...   \n",
       "94745                     58.148777       39.008931           36.476562   \n",
       "94746                     57.550367       39.006759           36.328125   \n",
       "94747                     57.099335       39.003815           36.131944   \n",
       "94748                     56.847239       39.003815           36.007805   \n",
       "94749                     56.741040       39.003815           35.914062   \n",
       "\n",
       "       NacellePosition  ReactivePower  RotorRPM  TurbineStatus  WindSpeed  \n",
       "0             8.000000      -9.960830  0.000000            0.0   2.279088  \n",
       "1           300.428571      -9.628441  0.000000            0.0   2.339343  \n",
       "2           340.000000      -9.491235  0.000000            0.0   2.455610  \n",
       "3           345.000000      -9.856136  0.000000            0.0   2.026754  \n",
       "4           345.000000      -9.745593  0.000000            0.0   1.831420  \n",
       "...                ...            ...       ...            ...        ...  \n",
       "94745       178.000000      13.775785  9.234004            2.0   3.533445  \n",
       "94746       178.000000       8.088928  9.229370            2.0   3.261231  \n",
       "94747       178.000000       4.355978  9.236802            2.0   3.331839  \n",
       "94748       190.000000      12.018077  9.237374            2.0   3.284468  \n",
       "94749       203.000000      14.439669  9.235532            2.0   3.475205  \n",
       "\n",
       "[94750 rows x 19 columns]"
      ]
     },
     "execution_count": 1,
     "metadata": {},
     "output_type": "execute_result"
    }
   ],
   "source": [
    "import os\n",
    "import sys\n",
    "\n",
    "# Add scripts directory to path\n",
    "current_dir = os.getcwd()\n",
    "scripts_dir = current_dir.replace(\"experiments\", \"train\")\n",
    "sys.path.append(scripts_dir)\n",
    "\n",
    "# Import preprocessed data\n",
    "from config import DATA_PATH\n",
    "from preprocess import DataPreprocessor\n",
    "preprocessor = DataPreprocessor(DATA_PATH)\n",
    "df = preprocessor.preprocess()\n",
    "df\n"
   ]
  },
  {
   "cell_type": "code",
   "execution_count": 3,
   "metadata": {},
   "outputs": [],
   "source": [
    "import numpy as np\n",
    "import matplotlib.pyplot as plt\n",
    "from darts import TimeSeries\n",
    "\n",
    "series = TimeSeries.from_dataframe(df, \n",
    "                                   time_col=\"ds\", \n",
    "                                   value_cols=df.columns.tolist()[1:], \n",
    "                                   fill_missing_dates=True,\n",
    "                                   freq = \"10T\", #10 minutes\n",
    "                                   fillna_value = 0,\n",
    "                                   )\n",
    "\n"
   ]
  },
  {
   "cell_type": "code",
   "execution_count": 4,
   "metadata": {},
   "outputs": [],
   "source": [
    "# Split the series into train and eval\n",
    "train, val = series.split_before(0.8)\n"
   ]
  },
  {
   "attachments": {},
   "cell_type": "markdown",
   "metadata": {},
   "source": [
    "## Train Models"
   ]
  },
  {
   "cell_type": "code",
   "execution_count": 5,
   "metadata": {},
   "outputs": [],
   "source": [
    "from darts.metrics import mape, mae, rmse\n",
    "\n",
    "models = []"
   ]
  },
  {
   "attachments": {},
   "cell_type": "markdown",
   "metadata": {},
   "source": [
    "### TCNModel\n",
    "\n",
    "TCNModel stands for Temporal Convolutional Network Model. It is a deep learning model that was introduced in a 2017 paper by Bai et al. (https://arxiv.org/abs/1803.01271). The model is designed for sequence-to-sequence tasks, such as time series forecasting.\n"
   ]
  },
  {
   "cell_type": "code",
   "execution_count": 6,
   "metadata": {},
   "outputs": [
    {
     "name": "stderr",
     "output_type": "stream",
     "text": [
      "/home/jlortiz/miniconda3/envs/awto/lib/python3.8/site-packages/torch/random.py:107: UserWarning: CUDA reports that you have 2 available devices, and you have used fork_rng without explicitly specifying which devices are being used. For safety, we initialize *every* CUDA device by default, which can be quite slow if you have a lot of GPUs.  If you know that you are only making use of a few CUDA devices, set the environment variable CUDA_VISIBLE_DEVICES or the 'devices' keyword argument of fork_rng with the set of devices you are actually using.  For example, if you are using CPU only, set CUDA_VISIBLE_DEVICES= or devices=[]; if you are using GPU 0 only, set CUDA_VISIBLE_DEVICES=0 or devices=[0].  To initialize all devices and suppress this warning, set the 'devices' keyword argument to `range(torch.cuda.device_count())`.\n",
      "  warnings.warn(\n",
      "GPU available: True (cuda), used: True\n",
      "TPU available: False, using: 0 TPU cores\n",
      "IPU available: False, using: 0 IPUs\n",
      "HPU available: False, using: 0 HPUs\n",
      "You are using a CUDA device ('NVIDIA RTX A6000') that has Tensor Cores. To properly utilize them, you should set `torch.set_float32_matmul_precision('medium' | 'high')` which will trade-off precision for performance. For more details, read https://pytorch.org/docs/stable/generated/torch.set_float32_matmul_precision.html#torch.set_float32_matmul_precision\n",
      "LOCAL_RANK: 0 - CUDA_VISIBLE_DEVICES: [0,1]\n",
      "\n",
      "  | Name          | Type              | Params\n",
      "----------------------------------------------------\n",
      "0 | criterion     | MSELoss           | 0     \n",
      "1 | train_metrics | MetricCollection  | 0     \n",
      "2 | val_metrics   | MetricCollection  | 0     \n",
      "3 | dropout       | MonteCarloDropout | 0     \n",
      "4 | res_blocks    | ModuleList        | 35.1 K\n",
      "----------------------------------------------------\n",
      "35.1 K    Trainable params\n",
      "0         Non-trainable params\n",
      "35.1 K    Total params\n",
      "0.140     Total estimated model params size (MB)\n"
     ]
    },
    {
     "data": {
      "application/vnd.jupyter.widget-view+json": {
       "model_id": "4a7c909719564e2292447e742c8dd88c",
       "version_major": 2,
       "version_minor": 0
      },
      "text/plain": [
       "Training: 0it [00:00, ?it/s]"
      ]
     },
     "metadata": {},
     "output_type": "display_data"
    },
    {
     "name": "stderr",
     "output_type": "stream",
     "text": [
      "`Trainer.fit` stopped: `max_epochs=10` reached.\n",
      "GPU available: True (cuda), used: True\n",
      "TPU available: False, using: 0 TPU cores\n",
      "IPU available: False, using: 0 IPUs\n",
      "HPU available: False, using: 0 HPUs\n",
      "You are using a CUDA device ('NVIDIA RTX A6000') that has Tensor Cores. To properly utilize them, you should set `torch.set_float32_matmul_precision('medium' | 'high')` which will trade-off precision for performance. For more details, read https://pytorch.org/docs/stable/generated/torch.set_float32_matmul_precision.html#torch.set_float32_matmul_precision\n",
      "LOCAL_RANK: 0 - CUDA_VISIBLE_DEVICES: [0,1]\n"
     ]
    },
    {
     "data": {
      "application/vnd.jupyter.widget-view+json": {
       "model_id": "86f18417ce53464f8d00e4e7a3404e08",
       "version_major": 2,
       "version_minor": 0
      },
      "text/plain": [
       "Predicting: 0it [00:00, ?it/s]"
      ]
     },
     "metadata": {},
     "output_type": "display_data"
    },
    {
     "name": "stdout",
     "output_type": "stream",
     "text": [
      "{'model': 'TCN', 'mae': 347.7334376628143, 'rmse': 505.10024259982885}\n"
     ]
    }
   ],
   "source": [
    "\n",
    "# Create model\n",
    "from darts.models import TCNModel\n",
    "from darts.metrics import mae\n",
    "import torch\n",
    "\n",
    "model = TCNModel(input_chunk_length=24, \n",
    "                 output_chunk_length=1, \n",
    "                 n_epochs=10, \n",
    "                 num_layers=2,\n",
    "                 num_filters=64,\n",
    "                 dropout=0.05,\n",
    "                 random_state=13,\n",
    "                 optimizer_cls = torch.optim.Adam,\n",
    "                 pl_trainer_kwargs={\"accelerator\": \"gpu\", \"devices\": [0]},\n",
    "                 batch_size=1024,\n",
    "                 )\n",
    "                 \n",
    "\n",
    "# Fit model on training set\n",
    "model.fit(train)\n",
    "\n",
    "# Make predictions on validation set\n",
    "pred_val = model.predict(len(val), verbose=True)\n",
    "\n",
    "# Evaluate performance using mean absolute error\n",
    "model_metrics = {}\n",
    "model_metrics[\"model\"] = \"TCN\"\n",
    "model_metrics[\"mae\"] = mae(val[\"ActivePower\"], pred_val[\"ActivePower\"])\n",
    "model_metrics[\"rmse\"] = rmse(val[\"ActivePower\"], pred_val[\"ActivePower\"])\n",
    "\n",
    "print(model_metrics)\n",
    "\n",
    "# Add model metrics to models list\n",
    "models.append(model_metrics)"
   ]
  },
  {
   "attachments": {},
   "cell_type": "markdown",
   "metadata": {},
   "source": [
    "### Extreme Gradient Boosting\n",
    "\n",
    "XGBModel is a machine learning model that uses the XGBoost algorithm for multivariate time series forecasting. The XGBoost algorithm is a powerful and scalable gradient boosting framework that is widely used for machine learning tasks such as classification, regression, and ranking.\n",
    "\n",
    "One paper that describes the use of XGBModel for multivariate time series forecasting is \"A Time Series Forecasting Method Based on XGBoost for Wind Power Generation\" by Y. Wu, et al. (2019). In this paper, the authors apply XGBModel to forecast wind power generation using a combination of weather data and historical energy production data. They compare the performance of XGBModel with other popular time series forecasting methods and show that XGBModel outperforms these methods in terms of accuracy and efficiency."
   ]
  },
  {
   "cell_type": "code",
   "execution_count": 7,
   "metadata": {},
   "outputs": [
    {
     "name": "stderr",
     "output_type": "stream",
     "text": [
      "/home/jlortiz/miniconda3/envs/awto/lib/python3.8/site-packages/sklearn/utils/deprecation.py:86: FutureWarning: Function delayed is deprecated; The function `delayed` has been moved from `sklearn.utils.fixes` to `sklearn.utils.parallel`. This import path will be removed in 1.5.\n",
      "  warnings.warn(msg, category=FutureWarning)\n",
      "/home/jlortiz/miniconda3/envs/awto/lib/python3.8/site-packages/sklearn/utils/parallel.py:114: UserWarning: `sklearn.utils.parallel.delayed` should be used with `sklearn.utils.parallel.Parallel` to make it possible to propagate the scikit-learn configuration of the current thread to the joblib workers.\n",
      "  warnings.warn(\n"
     ]
    },
    {
     "name": "stdout",
     "output_type": "stream",
     "text": [
      "{'model': 'XGBModel', 'mae': 668.6332798806518, 'rmse': 774.6159428496971}\n"
     ]
    }
   ],
   "source": [
    "from darts.models import XGBModel\n",
    "\n",
    "# Create model\n",
    "model = XGBModel(lags = 24, random_state=13)\n",
    "                 \n",
    "\n",
    "# Fit model on training set\n",
    "model.fit(train)\n",
    "\n",
    "# Make predictions on validation set\n",
    "pred_val = model.predict(len(val), verbose=True)\n",
    "\n",
    "# Evaluate performance using mean absolute error\n",
    "model_metrics = {}\n",
    "model_metrics[\"model\"] = \"XGBModel\"\n",
    "model_metrics[\"mae\"] = mae(val[\"ActivePower\"], pred_val[\"ActivePower\"])\n",
    "\n",
    "model_metrics[\"rmse\"] = rmse(val[\"ActivePower\"], pred_val[\"ActivePower\"])\n",
    "\n",
    "print(model_metrics)\n",
    "\n",
    "# Add model metrics to models list\n",
    "models.append(model_metrics)\n",
    "\n"
   ]
  },
  {
   "cell_type": "code",
   "execution_count": null,
   "metadata": {},
   "outputs": [],
   "source": []
  },
  {
   "attachments": {},
   "cell_type": "markdown",
   "metadata": {},
   "source": [
    "# Recurent Neural Networks\n",
    "\n",
    "Recurrent Neural Networks (RNN) for multivariate Time Series Forecasting are a type of deep learning model specifically designed for predicting future values in a time series dataset. \n",
    "\n",
    "One of the most widely cited papers on this topic is \"Deep Learning for Time-Series Analysis\" by W. McKinney, which was published in the Journal of Statistical Software in 2016. This paper provides a comprehensive overview of the use of RNNs for time series forecasting, including their architecture, training, and evaluation. It also presents several case studies demonstrating the effectiveness of RNNs in predicting future values in multivariate time series datasets."
   ]
  },
  {
   "cell_type": "code",
   "execution_count": 8,
   "metadata": {},
   "outputs": [
    {
     "name": "stderr",
     "output_type": "stream",
     "text": [
      "GPU available: True (cuda), used: True\n",
      "TPU available: False, using: 0 TPU cores\n",
      "IPU available: False, using: 0 IPUs\n",
      "HPU available: False, using: 0 HPUs\n",
      "You are using a CUDA device ('NVIDIA RTX A6000') that has Tensor Cores. To properly utilize them, you should set `torch.set_float32_matmul_precision('medium' | 'high')` which will trade-off precision for performance. For more details, read https://pytorch.org/docs/stable/generated/torch.set_float32_matmul_precision.html#torch.set_float32_matmul_precision\n",
      "LOCAL_RANK: 0 - CUDA_VISIBLE_DEVICES: [0,1]\n",
      "\n",
      "  | Name          | Type             | Params\n",
      "---------------------------------------------------\n",
      "0 | criterion     | MSELoss          | 0     \n",
      "1 | train_metrics | MetricCollection | 0     \n",
      "2 | val_metrics   | MetricCollection | 0     \n",
      "3 | rnn           | RNN              | 2.5 K \n",
      "4 | V             | Linear           | 520   \n",
      "---------------------------------------------------\n",
      "3.0 K     Trainable params\n",
      "0         Non-trainable params\n",
      "3.0 K     Total params\n",
      "0.012     Total estimated model params size (MB)\n"
     ]
    },
    {
     "data": {
      "application/vnd.jupyter.widget-view+json": {
       "model_id": "261a56a9150844b1ad61551452029102",
       "version_major": 2,
       "version_minor": 0
      },
      "text/plain": [
       "Training: 0it [00:00, ?it/s]"
      ]
     },
     "metadata": {},
     "output_type": "display_data"
    },
    {
     "name": "stderr",
     "output_type": "stream",
     "text": [
      "`Trainer.fit` stopped: `max_epochs=10` reached.\n",
      "GPU available: True (cuda), used: True\n",
      "TPU available: False, using: 0 TPU cores\n",
      "IPU available: False, using: 0 IPUs\n",
      "HPU available: False, using: 0 HPUs\n",
      "You are using a CUDA device ('NVIDIA RTX A6000') that has Tensor Cores. To properly utilize them, you should set `torch.set_float32_matmul_precision('medium' | 'high')` which will trade-off precision for performance. For more details, read https://pytorch.org/docs/stable/generated/torch.set_float32_matmul_precision.html#torch.set_float32_matmul_precision\n",
      "LOCAL_RANK: 0 - CUDA_VISIBLE_DEVICES: [0,1]\n"
     ]
    },
    {
     "data": {
      "application/vnd.jupyter.widget-view+json": {
       "model_id": "88758c603a81460cb9a29b56c61ab1ec",
       "version_major": 2,
       "version_minor": 0
      },
      "text/plain": [
       "Predicting: 0it [00:00, ?it/s]"
      ]
     },
     "metadata": {},
     "output_type": "display_data"
    },
    {
     "name": "stdout",
     "output_type": "stream",
     "text": [
      "{'model': 'RNNModel', 'mae': 403.15647126109354, 'rmse': 602.1093301671859}\n"
     ]
    }
   ],
   "source": [
    "from darts.models import RNNModel\n",
    "\n",
    "# Create model\n",
    "model = RNNModel(input_chunk_length=24, \n",
    "                 model=\"RNN\",\n",
    "                 output_chunk_length=1, \n",
    "                 n_epochs=10, \n",
    "                 n_rnn_layers=2,\n",
    "                 dropout=0.05,\n",
    "                 random_state=13,\n",
    "                 optimizer_cls = torch.optim.Adam,\n",
    "                 pl_trainer_kwargs={\"accelerator\": \"gpu\", \"devices\": [0]},\n",
    "                 batch_size=1024*3,\n",
    "                 )\n",
    "\n",
    "# Fit model on training set\n",
    "model.fit(train)\n",
    "\n",
    "# Make predictions on validation set\n",
    "pred_val = model.predict(len(val), verbose=True)\n",
    "\n",
    "# Evaluate performance using mean absolute error\n",
    "model_metrics = {}\n",
    "model_metrics[\"model\"] = \"RNNModel\"\n",
    "model_metrics[\"mae\"] = mae(val[\"ActivePower\"], pred_val[\"ActivePower\"])\n",
    "\n",
    "model_metrics[\"rmse\"] = rmse(val[\"ActivePower\"], pred_val[\"ActivePower\"])\n",
    "\n",
    "print(model_metrics)\n",
    "\n",
    "# Add model metrics to models list\n",
    "models.append(model_metrics)\n",
    "\n"
   ]
  },
  {
   "attachments": {},
   "cell_type": "markdown",
   "metadata": {},
   "source": [
    "### LSTM"
   ]
  },
  {
   "cell_type": "code",
   "execution_count": 9,
   "metadata": {},
   "outputs": [
    {
     "name": "stderr",
     "output_type": "stream",
     "text": [
      "GPU available: True (cuda), used: True\n",
      "TPU available: False, using: 0 TPU cores\n",
      "IPU available: False, using: 0 IPUs\n",
      "HPU available: False, using: 0 HPUs\n",
      "You are using a CUDA device ('NVIDIA RTX A6000') that has Tensor Cores. To properly utilize them, you should set `torch.set_float32_matmul_precision('medium' | 'high')` which will trade-off precision for performance. For more details, read https://pytorch.org/docs/stable/generated/torch.set_float32_matmul_precision.html#torch.set_float32_matmul_precision\n",
      "LOCAL_RANK: 0 - CUDA_VISIBLE_DEVICES: [0,1]\n",
      "\n",
      "  | Name          | Type             | Params\n",
      "---------------------------------------------------\n",
      "0 | criterion     | MSELoss          | 0     \n",
      "1 | train_metrics | MetricCollection | 0     \n",
      "2 | val_metrics   | MetricCollection | 0     \n",
      "3 | rnn           | LSTM             | 9.9 K \n",
      "4 | V             | Linear           | 520   \n",
      "---------------------------------------------------\n",
      "10.4 K    Trainable params\n",
      "0         Non-trainable params\n",
      "10.4 K    Total params\n",
      "0.042     Total estimated model params size (MB)\n"
     ]
    },
    {
     "data": {
      "application/vnd.jupyter.widget-view+json": {
       "model_id": "56e6b11b0a6c4925aec857047e1d78bc",
       "version_major": 2,
       "version_minor": 0
      },
      "text/plain": [
       "Training: 0it [00:00, ?it/s]"
      ]
     },
     "metadata": {},
     "output_type": "display_data"
    },
    {
     "name": "stderr",
     "output_type": "stream",
     "text": [
      "`Trainer.fit` stopped: `max_epochs=10` reached.\n",
      "GPU available: True (cuda), used: True\n",
      "TPU available: False, using: 0 TPU cores\n",
      "IPU available: False, using: 0 IPUs\n",
      "HPU available: False, using: 0 HPUs\n",
      "You are using a CUDA device ('NVIDIA RTX A6000') that has Tensor Cores. To properly utilize them, you should set `torch.set_float32_matmul_precision('medium' | 'high')` which will trade-off precision for performance. For more details, read https://pytorch.org/docs/stable/generated/torch.set_float32_matmul_precision.html#torch.set_float32_matmul_precision\n",
      "LOCAL_RANK: 0 - CUDA_VISIBLE_DEVICES: [0,1]\n"
     ]
    },
    {
     "data": {
      "application/vnd.jupyter.widget-view+json": {
       "model_id": "d9748691a5a74d8191c95c4650d5e64d",
       "version_major": 2,
       "version_minor": 0
      },
      "text/plain": [
       "Predicting: 0it [00:00, ?it/s]"
      ]
     },
     "metadata": {},
     "output_type": "display_data"
    },
    {
     "name": "stdout",
     "output_type": "stream",
     "text": [
      "{'model': 'LSTM', 'mae': 403.18950909677, 'rmse': 602.1550562127413}\n"
     ]
    }
   ],
   "source": [
    "from darts.models import RNNModel\n",
    "\n",
    "# Create model\n",
    "model = RNNModel(input_chunk_length=24, \n",
    "                 model=\"LSTM\",\n",
    "                 output_chunk_length=1, \n",
    "                 n_epochs=10, \n",
    "                 n_rnn_layers=2,\n",
    "                 dropout=0.05,\n",
    "                 random_state=13,\n",
    "                 optimizer_cls = torch.optim.Adam,\n",
    "                 pl_trainer_kwargs={\"accelerator\": \"gpu\", \"devices\": [0]},\n",
    "                 batch_size=1024*3,\n",
    "                 )\n",
    "\n",
    "# Fit model on training set\n",
    "model.fit(train)\n",
    "\n",
    "# Make predictions on validation set\n",
    "pred_val = model.predict(len(val), verbose=True)\n",
    "\n",
    "# Evaluate performance using mean absolute error\n",
    "model_metrics = {}\n",
    "model_metrics[\"model\"] = \"LSTM\"\n",
    "model_metrics[\"mae\"] = mae(val[\"ActivePower\"], pred_val[\"ActivePower\"])\n",
    "\n",
    "model_metrics[\"rmse\"] = rmse(val[\"ActivePower\"], pred_val[\"ActivePower\"])\n",
    "\n",
    "print(model_metrics)\n",
    "\n",
    "# Add model metrics to models list\n",
    "models.append(model_metrics)\n",
    "\n"
   ]
  },
  {
   "cell_type": "code",
   "execution_count": 10,
   "metadata": {},
   "outputs": [
    {
     "name": "stderr",
     "output_type": "stream",
     "text": [
      "GPU available: True (cuda), used: True\n",
      "TPU available: False, using: 0 TPU cores\n",
      "IPU available: False, using: 0 IPUs\n",
      "HPU available: False, using: 0 HPUs\n",
      "You are using a CUDA device ('NVIDIA RTX A6000') that has Tensor Cores. To properly utilize them, you should set `torch.set_float32_matmul_precision('medium' | 'high')` which will trade-off precision for performance. For more details, read https://pytorch.org/docs/stable/generated/torch.set_float32_matmul_precision.html#torch.set_float32_matmul_precision\n",
      "LOCAL_RANK: 0 - CUDA_VISIBLE_DEVICES: [0,1]\n",
      "\n",
      "  | Name          | Type             | Params\n",
      "---------------------------------------------------\n",
      "0 | criterion     | MSELoss          | 0     \n",
      "1 | train_metrics | MetricCollection | 0     \n",
      "2 | val_metrics   | MetricCollection | 0     \n",
      "3 | rnn           | GRU              | 7.4 K \n",
      "4 | V             | Linear           | 520   \n",
      "---------------------------------------------------\n",
      "7.9 K     Trainable params\n",
      "0         Non-trainable params\n",
      "7.9 K     Total params\n",
      "0.032     Total estimated model params size (MB)\n"
     ]
    },
    {
     "data": {
      "application/vnd.jupyter.widget-view+json": {
       "model_id": "8ce3cfc3be0344d89e1c8813cc24d119",
       "version_major": 2,
       "version_minor": 0
      },
      "text/plain": [
       "Training: 0it [00:00, ?it/s]"
      ]
     },
     "metadata": {},
     "output_type": "display_data"
    },
    {
     "name": "stderr",
     "output_type": "stream",
     "text": [
      "`Trainer.fit` stopped: `max_epochs=10` reached.\n",
      "GPU available: True (cuda), used: True\n",
      "TPU available: False, using: 0 TPU cores\n",
      "IPU available: False, using: 0 IPUs\n",
      "HPU available: False, using: 0 HPUs\n",
      "You are using a CUDA device ('NVIDIA RTX A6000') that has Tensor Cores. To properly utilize them, you should set `torch.set_float32_matmul_precision('medium' | 'high')` which will trade-off precision for performance. For more details, read https://pytorch.org/docs/stable/generated/torch.set_float32_matmul_precision.html#torch.set_float32_matmul_precision\n",
      "LOCAL_RANK: 0 - CUDA_VISIBLE_DEVICES: [0,1]\n"
     ]
    },
    {
     "data": {
      "application/vnd.jupyter.widget-view+json": {
       "model_id": "143e206ab51d46d19ccc60b7387bf090",
       "version_major": 2,
       "version_minor": 0
      },
      "text/plain": [
       "Predicting: 0it [00:00, ?it/s]"
      ]
     },
     "metadata": {},
     "output_type": "display_data"
    },
    {
     "name": "stdout",
     "output_type": "stream",
     "text": [
      "{'model': 'GRU', 'mae': 415.7205452484341, 'rmse': 615.3084142992636}\n"
     ]
    }
   ],
   "source": [
    "from darts.models import RNNModel\n",
    "\n",
    "# Create model\n",
    "model = RNNModel(input_chunk_length=24, \n",
    "                 model=\"GRU\",\n",
    "                 output_chunk_length=1, \n",
    "                 n_epochs=10, \n",
    "                 n_rnn_layers=2,\n",
    "                 dropout=0.05,\n",
    "                 random_state=13,\n",
    "                 optimizer_cls = torch.optim.Adam,\n",
    "                 pl_trainer_kwargs={\"accelerator\": \"gpu\", \"devices\": [0]},\n",
    "                 batch_size=1024*3,\n",
    "                 )\n",
    "\n",
    "# Fit model on training set\n",
    "model.fit(train)\n",
    "\n",
    "# Make predictions on validation set\n",
    "pred_val = model.predict(len(val), verbose=True)\n",
    "\n",
    "# Evaluate performance using mean absolute error\n",
    "model_metrics = {}\n",
    "model_metrics[\"model\"] = \"GRU\"\n",
    "model_metrics[\"mae\"] = mae(val[\"ActivePower\"], pred_val[\"ActivePower\"])\n",
    "\n",
    "model_metrics[\"rmse\"] = rmse(val[\"ActivePower\"], pred_val[\"ActivePower\"])\n",
    "\n",
    "print(model_metrics)\n",
    "\n",
    "# Add model metrics to models list\n",
    "models.append(model_metrics)\n",
    "\n"
   ]
  },
  {
   "attachments": {},
   "cell_type": "markdown",
   "metadata": {},
   "source": [
    "## Resume"
   ]
  },
  {
   "cell_type": "code",
   "execution_count": 11,
   "metadata": {},
   "outputs": [
    {
     "data": {
      "text/html": [
       "<div>\n",
       "<style scoped>\n",
       "    .dataframe tbody tr th:only-of-type {\n",
       "        vertical-align: middle;\n",
       "    }\n",
       "\n",
       "    .dataframe tbody tr th {\n",
       "        vertical-align: top;\n",
       "    }\n",
       "\n",
       "    .dataframe thead th {\n",
       "        text-align: right;\n",
       "    }\n",
       "</style>\n",
       "<table border=\"1\" class=\"dataframe\">\n",
       "  <thead>\n",
       "    <tr style=\"text-align: right;\">\n",
       "      <th></th>\n",
       "      <th>model</th>\n",
       "      <th>mae</th>\n",
       "      <th>rmse</th>\n",
       "    </tr>\n",
       "  </thead>\n",
       "  <tbody>\n",
       "    <tr>\n",
       "      <th>0</th>\n",
       "      <td>TCN</td>\n",
       "      <td>347.733438</td>\n",
       "      <td>505.100243</td>\n",
       "    </tr>\n",
       "    <tr>\n",
       "      <th>1</th>\n",
       "      <td>XGBModel</td>\n",
       "      <td>668.633280</td>\n",
       "      <td>774.615943</td>\n",
       "    </tr>\n",
       "    <tr>\n",
       "      <th>2</th>\n",
       "      <td>RNNModel</td>\n",
       "      <td>403.156471</td>\n",
       "      <td>602.109330</td>\n",
       "    </tr>\n",
       "    <tr>\n",
       "      <th>3</th>\n",
       "      <td>LSTM</td>\n",
       "      <td>403.189509</td>\n",
       "      <td>602.155056</td>\n",
       "    </tr>\n",
       "    <tr>\n",
       "      <th>4</th>\n",
       "      <td>GRU</td>\n",
       "      <td>415.720545</td>\n",
       "      <td>615.308414</td>\n",
       "    </tr>\n",
       "  </tbody>\n",
       "</table>\n",
       "</div>"
      ],
      "text/plain": [
       "      model         mae        rmse\n",
       "0       TCN  347.733438  505.100243\n",
       "1  XGBModel  668.633280  774.615943\n",
       "2  RNNModel  403.156471  602.109330\n",
       "3      LSTM  403.189509  602.155056\n",
       "4       GRU  415.720545  615.308414"
      ]
     },
     "execution_count": 11,
     "metadata": {},
     "output_type": "execute_result"
    }
   ],
   "source": [
    "pd.DataFrame(models)"
   ]
  }
 ],
 "metadata": {
  "kernelspec": {
   "display_name": "awto",
   "language": "python",
   "name": "python3"
  },
  "language_info": {
   "codemirror_mode": {
    "name": "ipython",
    "version": 3
   },
   "file_extension": ".py",
   "mimetype": "text/x-python",
   "name": "python",
   "nbconvert_exporter": "python",
   "pygments_lexer": "ipython3",
   "version": "3.8.16"
  },
  "orig_nbformat": 4
 },
 "nbformat": 4,
 "nbformat_minor": 2
}
